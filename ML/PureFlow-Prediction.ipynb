{
  "cells": [
    {
      "cell_type": "code",
      "source": [
        "import pandas as pd\n",
        "import numpy as np\n",
        "import joblib \n",
        "from sklearn.svm import OneClassSVM\n",
        "from sklearn.preprocessing import StandardScaler\n",
        "from azureml.core import Workspace, Experiment, Dataset, Datastore\n",
        "\n",
        "# Load the dataset \n",
        "df = pd.read_csv(\"water_potability.csv\")\n",
        "df"
      ],
      "outputs": [
        {
          "output_type": "execute_result",
          "execution_count": 15,
          "data": {
            "text/plain": "            ph    Hardness        Solids  Chloramines     Sulfate  \\\n0          NaN  204.890455  20791.318981     7.300212  368.516441   \n1     3.716080  129.422921  18630.057858     6.635246         NaN   \n2     8.099124  224.236259  19909.541732     9.275884         NaN   \n3     8.316766  214.373394  22018.417441     8.059332  356.886136   \n4     9.092223  181.101509  17978.986339     6.546600  310.135738   \n...        ...         ...           ...          ...         ...   \n3271  4.668102  193.681735  47580.991603     7.166639  359.948574   \n3272  7.808856  193.553212  17329.802160     8.061362         NaN   \n3273  9.419510  175.762646  33155.578218     7.350233         NaN   \n3274  5.126763  230.603758  11983.869376     6.303357         NaN   \n3275  7.874671  195.102299  17404.177061     7.509306         NaN   \n\n      Conductivity  Organic_carbon  Trihalomethanes  Turbidity  Potability  \n0       564.308654       10.379783        86.990970   2.963135           0  \n1       592.885359       15.180013        56.329076   4.500656           0  \n2       418.606213       16.868637        66.420093   3.055934           0  \n3       363.266516       18.436524       100.341674   4.628771           0  \n4       398.410813       11.558279        31.997993   4.075075           0  \n...            ...             ...              ...        ...         ...  \n3271    526.424171       13.894419        66.687695   4.435821           1  \n3272    392.449580       19.903225              NaN   2.798243           1  \n3273    432.044783       11.039070        69.845400   3.298875           1  \n3274    402.883113       11.168946        77.488213   4.708658           1  \n3275    327.459760       16.140368        78.698446   2.309149           1  \n\n[3276 rows x 10 columns]",
            "text/html": "<div>\n<style scoped>\n    .dataframe tbody tr th:only-of-type {\n        vertical-align: middle;\n    }\n\n    .dataframe tbody tr th {\n        vertical-align: top;\n    }\n\n    .dataframe thead th {\n        text-align: right;\n    }\n</style>\n<table border=\"1\" class=\"dataframe\">\n  <thead>\n    <tr style=\"text-align: right;\">\n      <th></th>\n      <th>ph</th>\n      <th>Hardness</th>\n      <th>Solids</th>\n      <th>Chloramines</th>\n      <th>Sulfate</th>\n      <th>Conductivity</th>\n      <th>Organic_carbon</th>\n      <th>Trihalomethanes</th>\n      <th>Turbidity</th>\n      <th>Potability</th>\n    </tr>\n  </thead>\n  <tbody>\n    <tr>\n      <th>0</th>\n      <td>NaN</td>\n      <td>204.890455</td>\n      <td>20791.318981</td>\n      <td>7.300212</td>\n      <td>368.516441</td>\n      <td>564.308654</td>\n      <td>10.379783</td>\n      <td>86.990970</td>\n      <td>2.963135</td>\n      <td>0</td>\n    </tr>\n    <tr>\n      <th>1</th>\n      <td>3.716080</td>\n      <td>129.422921</td>\n      <td>18630.057858</td>\n      <td>6.635246</td>\n      <td>NaN</td>\n      <td>592.885359</td>\n      <td>15.180013</td>\n      <td>56.329076</td>\n      <td>4.500656</td>\n      <td>0</td>\n    </tr>\n    <tr>\n      <th>2</th>\n      <td>8.099124</td>\n      <td>224.236259</td>\n      <td>19909.541732</td>\n      <td>9.275884</td>\n      <td>NaN</td>\n      <td>418.606213</td>\n      <td>16.868637</td>\n      <td>66.420093</td>\n      <td>3.055934</td>\n      <td>0</td>\n    </tr>\n    <tr>\n      <th>3</th>\n      <td>8.316766</td>\n      <td>214.373394</td>\n      <td>22018.417441</td>\n      <td>8.059332</td>\n      <td>356.886136</td>\n      <td>363.266516</td>\n      <td>18.436524</td>\n      <td>100.341674</td>\n      <td>4.628771</td>\n      <td>0</td>\n    </tr>\n    <tr>\n      <th>4</th>\n      <td>9.092223</td>\n      <td>181.101509</td>\n      <td>17978.986339</td>\n      <td>6.546600</td>\n      <td>310.135738</td>\n      <td>398.410813</td>\n      <td>11.558279</td>\n      <td>31.997993</td>\n      <td>4.075075</td>\n      <td>0</td>\n    </tr>\n    <tr>\n      <th>...</th>\n      <td>...</td>\n      <td>...</td>\n      <td>...</td>\n      <td>...</td>\n      <td>...</td>\n      <td>...</td>\n      <td>...</td>\n      <td>...</td>\n      <td>...</td>\n      <td>...</td>\n    </tr>\n    <tr>\n      <th>3271</th>\n      <td>4.668102</td>\n      <td>193.681735</td>\n      <td>47580.991603</td>\n      <td>7.166639</td>\n      <td>359.948574</td>\n      <td>526.424171</td>\n      <td>13.894419</td>\n      <td>66.687695</td>\n      <td>4.435821</td>\n      <td>1</td>\n    </tr>\n    <tr>\n      <th>3272</th>\n      <td>7.808856</td>\n      <td>193.553212</td>\n      <td>17329.802160</td>\n      <td>8.061362</td>\n      <td>NaN</td>\n      <td>392.449580</td>\n      <td>19.903225</td>\n      <td>NaN</td>\n      <td>2.798243</td>\n      <td>1</td>\n    </tr>\n    <tr>\n      <th>3273</th>\n      <td>9.419510</td>\n      <td>175.762646</td>\n      <td>33155.578218</td>\n      <td>7.350233</td>\n      <td>NaN</td>\n      <td>432.044783</td>\n      <td>11.039070</td>\n      <td>69.845400</td>\n      <td>3.298875</td>\n      <td>1</td>\n    </tr>\n    <tr>\n      <th>3274</th>\n      <td>5.126763</td>\n      <td>230.603758</td>\n      <td>11983.869376</td>\n      <td>6.303357</td>\n      <td>NaN</td>\n      <td>402.883113</td>\n      <td>11.168946</td>\n      <td>77.488213</td>\n      <td>4.708658</td>\n      <td>1</td>\n    </tr>\n    <tr>\n      <th>3275</th>\n      <td>7.874671</td>\n      <td>195.102299</td>\n      <td>17404.177061</td>\n      <td>7.509306</td>\n      <td>NaN</td>\n      <td>327.459760</td>\n      <td>16.140368</td>\n      <td>78.698446</td>\n      <td>2.309149</td>\n      <td>1</td>\n    </tr>\n  </tbody>\n</table>\n<p>3276 rows × 10 columns</p>\n</div>"
          },
          "metadata": {}
        }
      ],
      "execution_count": 15,
      "metadata": {
        "gather": {
          "logged": 1742311551067
        }
      }
    },
    {
      "cell_type": "code",
      "source": [
        "# Check missing values\n",
        "print(\"\\nMising Value:\\n\",df.isnull().sum())"
      ],
      "outputs": [
        {
          "output_type": "stream",
          "name": "stdout",
          "text": "\nMising Value:\n ph                 491\nHardness             0\nSolids               0\nChloramines          0\nSulfate            781\nConductivity         0\nOrganic_carbon       0\nTrihalomethanes    162\nTurbidity            0\nPotability           0\ndtype: int64\n"
        }
      ],
      "execution_count": 18,
      "metadata": {
        "gather": {
          "logged": 1742311628135
        }
      }
    },
    {
      "cell_type": "code",
      "source": [
        "# Selecting relevant features\n",
        "features = ['ph', 'Solids', 'Turbidity']\n",
        "clean_df = df[features].copy()\n",
        "\n",
        "# Handle missing values (use mean imputation)\n",
        "clean_df.fillna(df.mean(), inplace=True)\n",
        "\n",
        "# Check missing values\n",
        "print(\"\\nMissing Values:\\n\", clean_df.isnull().sum())\n",
        "\n",
        "clean_df"
      ],
      "outputs": [
        {
          "output_type": "stream",
          "name": "stdout",
          "text": "\nMissing Values:\n ph           0\nSolids       0\nTurbidity    0\ndtype: int64\n"
        },
        {
          "output_type": "execute_result",
          "execution_count": 19,
          "data": {
            "text/plain": "            ph        Solids  Turbidity\n0     7.080795  20791.318981   2.963135\n1     3.716080  18630.057858   4.500656\n2     8.099124  19909.541732   3.055934\n3     8.316766  22018.417441   4.628771\n4     9.092223  17978.986339   4.075075\n...        ...           ...        ...\n3271  4.668102  47580.991603   4.435821\n3272  7.808856  17329.802160   2.798243\n3273  9.419510  33155.578218   3.298875\n3274  5.126763  11983.869376   4.708658\n3275  7.874671  17404.177061   2.309149\n\n[3276 rows x 3 columns]",
            "text/html": "<div>\n<style scoped>\n    .dataframe tbody tr th:only-of-type {\n        vertical-align: middle;\n    }\n\n    .dataframe tbody tr th {\n        vertical-align: top;\n    }\n\n    .dataframe thead th {\n        text-align: right;\n    }\n</style>\n<table border=\"1\" class=\"dataframe\">\n  <thead>\n    <tr style=\"text-align: right;\">\n      <th></th>\n      <th>ph</th>\n      <th>Solids</th>\n      <th>Turbidity</th>\n    </tr>\n  </thead>\n  <tbody>\n    <tr>\n      <th>0</th>\n      <td>7.080795</td>\n      <td>20791.318981</td>\n      <td>2.963135</td>\n    </tr>\n    <tr>\n      <th>1</th>\n      <td>3.716080</td>\n      <td>18630.057858</td>\n      <td>4.500656</td>\n    </tr>\n    <tr>\n      <th>2</th>\n      <td>8.099124</td>\n      <td>19909.541732</td>\n      <td>3.055934</td>\n    </tr>\n    <tr>\n      <th>3</th>\n      <td>8.316766</td>\n      <td>22018.417441</td>\n      <td>4.628771</td>\n    </tr>\n    <tr>\n      <th>4</th>\n      <td>9.092223</td>\n      <td>17978.986339</td>\n      <td>4.075075</td>\n    </tr>\n    <tr>\n      <th>...</th>\n      <td>...</td>\n      <td>...</td>\n      <td>...</td>\n    </tr>\n    <tr>\n      <th>3271</th>\n      <td>4.668102</td>\n      <td>47580.991603</td>\n      <td>4.435821</td>\n    </tr>\n    <tr>\n      <th>3272</th>\n      <td>7.808856</td>\n      <td>17329.802160</td>\n      <td>2.798243</td>\n    </tr>\n    <tr>\n      <th>3273</th>\n      <td>9.419510</td>\n      <td>33155.578218</td>\n      <td>3.298875</td>\n    </tr>\n    <tr>\n      <th>3274</th>\n      <td>5.126763</td>\n      <td>11983.869376</td>\n      <td>4.708658</td>\n    </tr>\n    <tr>\n      <th>3275</th>\n      <td>7.874671</td>\n      <td>17404.177061</td>\n      <td>2.309149</td>\n    </tr>\n  </tbody>\n</table>\n<p>3276 rows × 3 columns</p>\n</div>"
          },
          "metadata": {}
        }
      ],
      "execution_count": 19,
      "metadata": {
        "gather": {
          "logged": 1742311630940
        }
      }
    },
    {
      "cell_type": "code",
      "source": [
        "# Registering the dataset in the data store\n",
        "ds = Datastore.get_default(ws)\n",
        "ds"
      ],
      "outputs": [
        {
          "output_type": "execute_result",
          "execution_count": 22,
          "data": {
            "text/plain": "{\n  \"name\": \"workspaceblobstore\",\n  \"container_name\": \"azureml-blobstore-54e1527f-e158-4b3a-9560-4f60fbf85765\",\n  \"account_name\": \"ttpjan25purefl4249766154\",\n  \"protocol\": \"https\",\n  \"endpoint\": \"core.windows.net\"\n}"
          },
          "metadata": {}
        }
      ],
      "execution_count": 22,
      "metadata": {
        "gather": {
          "logged": 1742311652927
        }
      }
    },
    {
      "cell_type": "code",
      "source": [
        "# Scaling\n",
        "scaler = StandardScaler()\n",
        "df_scaled = scaler.fit_transform(clean_df)"
      ],
      "outputs": [],
      "execution_count": 23,
      "metadata": {
        "gather": {
          "logged": 1742311655363
        }
      }
    },
    {
      "cell_type": "code",
      "source": [
        "# Train One-Class SVM for anomaly detection\n",
        "oc_svm = OneClassSVM(kernel=\"rbf\", gamma=0.1, nu=0.05)\n",
        "oc_svm.fit(df_scaled)"
      ],
      "outputs": [
        {
          "output_type": "execute_result",
          "execution_count": 24,
          "data": {
            "text/plain": "OneClassSVM(gamma=0.1, nu=0.05)",
            "text/html": "<style>#sk-container-id-3 {\n  /* Definition of color scheme common for light and dark mode */\n  --sklearn-color-text: black;\n  --sklearn-color-line: gray;\n  /* Definition of color scheme for unfitted estimators */\n  --sklearn-color-unfitted-level-0: #fff5e6;\n  --sklearn-color-unfitted-level-1: #f6e4d2;\n  --sklearn-color-unfitted-level-2: #ffe0b3;\n  --sklearn-color-unfitted-level-3: chocolate;\n  /* Definition of color scheme for fitted estimators */\n  --sklearn-color-fitted-level-0: #f0f8ff;\n  --sklearn-color-fitted-level-1: #d4ebff;\n  --sklearn-color-fitted-level-2: #b3dbfd;\n  --sklearn-color-fitted-level-3: cornflowerblue;\n\n  /* Specific color for light theme */\n  --sklearn-color-text-on-default-background: var(--sg-text-color, var(--theme-code-foreground, var(--jp-content-font-color1, black)));\n  --sklearn-color-background: var(--sg-background-color, var(--theme-background, var(--jp-layout-color0, white)));\n  --sklearn-color-border-box: var(--sg-text-color, var(--theme-code-foreground, var(--jp-content-font-color1, black)));\n  --sklearn-color-icon: #696969;\n\n  @media (prefers-color-scheme: dark) {\n    /* Redefinition of color scheme for dark theme */\n    --sklearn-color-text-on-default-background: var(--sg-text-color, var(--theme-code-foreground, var(--jp-content-font-color1, white)));\n    --sklearn-color-background: var(--sg-background-color, var(--theme-background, var(--jp-layout-color0, #111)));\n    --sklearn-color-border-box: var(--sg-text-color, var(--theme-code-foreground, var(--jp-content-font-color1, white)));\n    --sklearn-color-icon: #878787;\n  }\n}\n\n#sk-container-id-3 {\n  color: var(--sklearn-color-text);\n}\n\n#sk-container-id-3 pre {\n  padding: 0;\n}\n\n#sk-container-id-3 input.sk-hidden--visually {\n  border: 0;\n  clip: rect(1px 1px 1px 1px);\n  clip: rect(1px, 1px, 1px, 1px);\n  height: 1px;\n  margin: -1px;\n  overflow: hidden;\n  padding: 0;\n  position: absolute;\n  width: 1px;\n}\n\n#sk-container-id-3 div.sk-dashed-wrapped {\n  border: 1px dashed var(--sklearn-color-line);\n  margin: 0 0.4em 0.5em 0.4em;\n  box-sizing: border-box;\n  padding-bottom: 0.4em;\n  background-color: var(--sklearn-color-background);\n}\n\n#sk-container-id-3 div.sk-container {\n  /* jupyter's `normalize.less` sets `[hidden] { display: none; }`\n     but bootstrap.min.css set `[hidden] { display: none !important; }`\n     so we also need the `!important` here to be able to override the\n     default hidden behavior on the sphinx rendered scikit-learn.org.\n     See: https://github.com/scikit-learn/scikit-learn/issues/21755 */\n  display: inline-block !important;\n  position: relative;\n}\n\n#sk-container-id-3 div.sk-text-repr-fallback {\n  display: none;\n}\n\ndiv.sk-parallel-item,\ndiv.sk-serial,\ndiv.sk-item {\n  /* draw centered vertical line to link estimators */\n  background-image: linear-gradient(var(--sklearn-color-text-on-default-background), var(--sklearn-color-text-on-default-background));\n  background-size: 2px 100%;\n  background-repeat: no-repeat;\n  background-position: center center;\n}\n\n/* Parallel-specific style estimator block */\n\n#sk-container-id-3 div.sk-parallel-item::after {\n  content: \"\";\n  width: 100%;\n  border-bottom: 2px solid var(--sklearn-color-text-on-default-background);\n  flex-grow: 1;\n}\n\n#sk-container-id-3 div.sk-parallel {\n  display: flex;\n  align-items: stretch;\n  justify-content: center;\n  background-color: var(--sklearn-color-background);\n  position: relative;\n}\n\n#sk-container-id-3 div.sk-parallel-item {\n  display: flex;\n  flex-direction: column;\n}\n\n#sk-container-id-3 div.sk-parallel-item:first-child::after {\n  align-self: flex-end;\n  width: 50%;\n}\n\n#sk-container-id-3 div.sk-parallel-item:last-child::after {\n  align-self: flex-start;\n  width: 50%;\n}\n\n#sk-container-id-3 div.sk-parallel-item:only-child::after {\n  width: 0;\n}\n\n/* Serial-specific style estimator block */\n\n#sk-container-id-3 div.sk-serial {\n  display: flex;\n  flex-direction: column;\n  align-items: center;\n  background-color: var(--sklearn-color-background);\n  padding-right: 1em;\n  padding-left: 1em;\n}\n\n\n/* Toggleable style: style used for estimator/Pipeline/ColumnTransformer box that is\nclickable and can be expanded/collapsed.\n- Pipeline and ColumnTransformer use this feature and define the default style\n- Estimators will overwrite some part of the style using the `sk-estimator` class\n*/\n\n/* Pipeline and ColumnTransformer style (default) */\n\n#sk-container-id-3 div.sk-toggleable {\n  /* Default theme specific background. It is overwritten whether we have a\n  specific estimator or a Pipeline/ColumnTransformer */\n  background-color: var(--sklearn-color-background);\n}\n\n/* Toggleable label */\n#sk-container-id-3 label.sk-toggleable__label {\n  cursor: pointer;\n  display: block;\n  width: 100%;\n  margin-bottom: 0;\n  padding: 0.5em;\n  box-sizing: border-box;\n  text-align: center;\n}\n\n#sk-container-id-3 label.sk-toggleable__label-arrow:before {\n  /* Arrow on the left of the label */\n  content: \"▸\";\n  float: left;\n  margin-right: 0.25em;\n  color: var(--sklearn-color-icon);\n}\n\n#sk-container-id-3 label.sk-toggleable__label-arrow:hover:before {\n  color: var(--sklearn-color-text);\n}\n\n/* Toggleable content - dropdown */\n\n#sk-container-id-3 div.sk-toggleable__content {\n  max-height: 0;\n  max-width: 0;\n  overflow: hidden;\n  text-align: left;\n  /* unfitted */\n  background-color: var(--sklearn-color-unfitted-level-0);\n}\n\n#sk-container-id-3 div.sk-toggleable__content.fitted {\n  /* fitted */\n  background-color: var(--sklearn-color-fitted-level-0);\n}\n\n#sk-container-id-3 div.sk-toggleable__content pre {\n  margin: 0.2em;\n  border-radius: 0.25em;\n  color: var(--sklearn-color-text);\n  /* unfitted */\n  background-color: var(--sklearn-color-unfitted-level-0);\n}\n\n#sk-container-id-3 div.sk-toggleable__content.fitted pre {\n  /* unfitted */\n  background-color: var(--sklearn-color-fitted-level-0);\n}\n\n#sk-container-id-3 input.sk-toggleable__control:checked~div.sk-toggleable__content {\n  /* Expand drop-down */\n  max-height: 200px;\n  max-width: 100%;\n  overflow: auto;\n}\n\n#sk-container-id-3 input.sk-toggleable__control:checked~label.sk-toggleable__label-arrow:before {\n  content: \"▾\";\n}\n\n/* Pipeline/ColumnTransformer-specific style */\n\n#sk-container-id-3 div.sk-label input.sk-toggleable__control:checked~label.sk-toggleable__label {\n  color: var(--sklearn-color-text);\n  background-color: var(--sklearn-color-unfitted-level-2);\n}\n\n#sk-container-id-3 div.sk-label.fitted input.sk-toggleable__control:checked~label.sk-toggleable__label {\n  background-color: var(--sklearn-color-fitted-level-2);\n}\n\n/* Estimator-specific style */\n\n/* Colorize estimator box */\n#sk-container-id-3 div.sk-estimator input.sk-toggleable__control:checked~label.sk-toggleable__label {\n  /* unfitted */\n  background-color: var(--sklearn-color-unfitted-level-2);\n}\n\n#sk-container-id-3 div.sk-estimator.fitted input.sk-toggleable__control:checked~label.sk-toggleable__label {\n  /* fitted */\n  background-color: var(--sklearn-color-fitted-level-2);\n}\n\n#sk-container-id-3 div.sk-label label.sk-toggleable__label,\n#sk-container-id-3 div.sk-label label {\n  /* The background is the default theme color */\n  color: var(--sklearn-color-text-on-default-background);\n}\n\n/* On hover, darken the color of the background */\n#sk-container-id-3 div.sk-label:hover label.sk-toggleable__label {\n  color: var(--sklearn-color-text);\n  background-color: var(--sklearn-color-unfitted-level-2);\n}\n\n/* Label box, darken color on hover, fitted */\n#sk-container-id-3 div.sk-label.fitted:hover label.sk-toggleable__label.fitted {\n  color: var(--sklearn-color-text);\n  background-color: var(--sklearn-color-fitted-level-2);\n}\n\n/* Estimator label */\n\n#sk-container-id-3 div.sk-label label {\n  font-family: monospace;\n  font-weight: bold;\n  display: inline-block;\n  line-height: 1.2em;\n}\n\n#sk-container-id-3 div.sk-label-container {\n  text-align: center;\n}\n\n/* Estimator-specific */\n#sk-container-id-3 div.sk-estimator {\n  font-family: monospace;\n  border: 1px dotted var(--sklearn-color-border-box);\n  border-radius: 0.25em;\n  box-sizing: border-box;\n  margin-bottom: 0.5em;\n  /* unfitted */\n  background-color: var(--sklearn-color-unfitted-level-0);\n}\n\n#sk-container-id-3 div.sk-estimator.fitted {\n  /* fitted */\n  background-color: var(--sklearn-color-fitted-level-0);\n}\n\n/* on hover */\n#sk-container-id-3 div.sk-estimator:hover {\n  /* unfitted */\n  background-color: var(--sklearn-color-unfitted-level-2);\n}\n\n#sk-container-id-3 div.sk-estimator.fitted:hover {\n  /* fitted */\n  background-color: var(--sklearn-color-fitted-level-2);\n}\n\n/* Specification for estimator info (e.g. \"i\" and \"?\") */\n\n/* Common style for \"i\" and \"?\" */\n\n.sk-estimator-doc-link,\na:link.sk-estimator-doc-link,\na:visited.sk-estimator-doc-link {\n  float: right;\n  font-size: smaller;\n  line-height: 1em;\n  font-family: monospace;\n  background-color: var(--sklearn-color-background);\n  border-radius: 1em;\n  height: 1em;\n  width: 1em;\n  text-decoration: none !important;\n  margin-left: 1ex;\n  /* unfitted */\n  border: var(--sklearn-color-unfitted-level-1) 1pt solid;\n  color: var(--sklearn-color-unfitted-level-1);\n}\n\n.sk-estimator-doc-link.fitted,\na:link.sk-estimator-doc-link.fitted,\na:visited.sk-estimator-doc-link.fitted {\n  /* fitted */\n  border: var(--sklearn-color-fitted-level-1) 1pt solid;\n  color: var(--sklearn-color-fitted-level-1);\n}\n\n/* On hover */\ndiv.sk-estimator:hover .sk-estimator-doc-link:hover,\n.sk-estimator-doc-link:hover,\ndiv.sk-label-container:hover .sk-estimator-doc-link:hover,\n.sk-estimator-doc-link:hover {\n  /* unfitted */\n  background-color: var(--sklearn-color-unfitted-level-3);\n  color: var(--sklearn-color-background);\n  text-decoration: none;\n}\n\ndiv.sk-estimator.fitted:hover .sk-estimator-doc-link.fitted:hover,\n.sk-estimator-doc-link.fitted:hover,\ndiv.sk-label-container:hover .sk-estimator-doc-link.fitted:hover,\n.sk-estimator-doc-link.fitted:hover {\n  /* fitted */\n  background-color: var(--sklearn-color-fitted-level-3);\n  color: var(--sklearn-color-background);\n  text-decoration: none;\n}\n\n/* Span, style for the box shown on hovering the info icon */\n.sk-estimator-doc-link span {\n  display: none;\n  z-index: 9999;\n  position: relative;\n  font-weight: normal;\n  right: .2ex;\n  padding: .5ex;\n  margin: .5ex;\n  width: min-content;\n  min-width: 20ex;\n  max-width: 50ex;\n  color: var(--sklearn-color-text);\n  box-shadow: 2pt 2pt 4pt #999;\n  /* unfitted */\n  background: var(--sklearn-color-unfitted-level-0);\n  border: .5pt solid var(--sklearn-color-unfitted-level-3);\n}\n\n.sk-estimator-doc-link.fitted span {\n  /* fitted */\n  background: var(--sklearn-color-fitted-level-0);\n  border: var(--sklearn-color-fitted-level-3);\n}\n\n.sk-estimator-doc-link:hover span {\n  display: block;\n}\n\n/* \"?\"-specific style due to the `<a>` HTML tag */\n\n#sk-container-id-3 a.estimator_doc_link {\n  float: right;\n  font-size: 1rem;\n  line-height: 1em;\n  font-family: monospace;\n  background-color: var(--sklearn-color-background);\n  border-radius: 1rem;\n  height: 1rem;\n  width: 1rem;\n  text-decoration: none;\n  /* unfitted */\n  color: var(--sklearn-color-unfitted-level-1);\n  border: var(--sklearn-color-unfitted-level-1) 1pt solid;\n}\n\n#sk-container-id-3 a.estimator_doc_link.fitted {\n  /* fitted */\n  border: var(--sklearn-color-fitted-level-1) 1pt solid;\n  color: var(--sklearn-color-fitted-level-1);\n}\n\n/* On hover */\n#sk-container-id-3 a.estimator_doc_link:hover {\n  /* unfitted */\n  background-color: var(--sklearn-color-unfitted-level-3);\n  color: var(--sklearn-color-background);\n  text-decoration: none;\n}\n\n#sk-container-id-3 a.estimator_doc_link.fitted:hover {\n  /* fitted */\n  background-color: var(--sklearn-color-fitted-level-3);\n}\n</style><div id=\"sk-container-id-3\" class=\"sk-top-container\"><div class=\"sk-text-repr-fallback\"><pre>OneClassSVM(gamma=0.1, nu=0.05)</pre><b>In a Jupyter environment, please rerun this cell to show the HTML representation or trust the notebook. <br />On GitHub, the HTML representation is unable to render, please try loading this page with nbviewer.org.</b></div><div class=\"sk-container\" hidden><div class=\"sk-item\"><div class=\"sk-estimator fitted sk-toggleable\"><input class=\"sk-toggleable__control sk-hidden--visually\" id=\"sk-estimator-id-3\" type=\"checkbox\" checked><label for=\"sk-estimator-id-3\" class=\"sk-toggleable__label fitted sk-toggleable__label-arrow fitted\">&nbsp;&nbsp;OneClassSVM<a class=\"sk-estimator-doc-link fitted\" rel=\"noreferrer\" target=\"_blank\" href=\"https://scikit-learn.org/1.5/modules/generated/sklearn.svm.OneClassSVM.html\">?<span>Documentation for OneClassSVM</span></a><span class=\"sk-estimator-doc-link fitted\">i<span>Fitted</span></span></label><div class=\"sk-toggleable__content fitted\"><pre>OneClassSVM(gamma=0.1, nu=0.05)</pre></div> </div></div></div></div>"
          },
          "metadata": {}
        }
      ],
      "execution_count": 24,
      "metadata": {
        "gather": {
          "logged": 1742311660338
        }
      }
    },
    {
      "cell_type": "code",
      "source": [
        "# Predict anomalies (-1 = anomaly, 1 = normal)\n",
        "anomaly_predictions = oc_svm.predict(df_scaled)\n",
        "\n",
        "# Convert predictions to a DataFrame\n",
        "clean_df['Anomaly'] = anomaly_predictions\n",
        "clean_df['Anomaly'] = clean_df['Anomaly'].replace({1: 'Normal', -1: 'Anomaly'})\n",
        "\n",
        "# Show results\n",
        "print(clean_df.tail(20)) \n",
        "\n",
        "# Save the model and scaler\n",
        "joblib.dump(oc_svm, \"one_class_svm.pkl\")\n",
        "joblib.dump(scaler, \"scaler.pkl\")"
      ],
      "outputs": [
        {
          "output_type": "stream",
          "name": "stdout",
          "text": "             ph        Solids  Turbidity  Anomaly\n3256   7.607224  39184.846720   3.525027   Normal\n3257   6.683368  18989.316768   5.208061   Normal\n3258   6.638411   9772.504814   5.164057   Normal\n3259   9.271355  16540.979048   4.333953   Normal\n3260   7.080795   9000.025591   3.699558   Normal\n3261   3.629922  24856.633209   4.754826   Normal\n3262   8.378108  28474.202580   4.524693   Normal\n3263   6.923636  24792.525623   4.013339   Normal\n3264   5.893103  20526.666156   4.390702   Normal\n3265   8.197353  27701.794055   3.361833   Normal\n3266   8.372910  14622.745494   4.906358   Normal\n3267   8.989900  15921.412018   4.613843   Normal\n3268   6.702547  17246.920347   3.442983   Normal\n3269  11.491011  37188.826022   4.369264  Anomaly\n3270   6.069616  26138.780191   3.669712   Normal\n3271   4.668102  47580.991603   4.435821  Anomaly\n3272   7.808856  17329.802160   2.798243   Normal\n3273   9.419510  33155.578218   3.298875   Normal\n3274   5.126763  11983.869376   4.708658   Normal\n3275   7.874671  17404.177061   2.309149   Normal\n"
        },
        {
          "output_type": "execute_result",
          "execution_count": 25,
          "data": {
            "text/plain": "['scaler.pkl']"
          },
          "metadata": {}
        }
      ],
      "execution_count": 25,
      "metadata": {
        "gather": {
          "logged": 1742311664081
        }
      }
    }
  ],
  "metadata": {
    "kernelspec": {
      "name": "python310-sdkv2",
      "language": "python",
      "display_name": "Python 3.10 - SDK v2"
    },
    "language_info": {
      "name": "python",
      "version": "3.10.14",
      "mimetype": "text/x-python",
      "codemirror_mode": {
        "name": "ipython",
        "version": 3
      },
      "pygments_lexer": "ipython3",
      "nbconvert_exporter": "python",
      "file_extension": ".py"
    },
    "kernel_info": {
      "name": "python310-sdkv2"
    },
    "microsoft": {
      "ms_spell_check": {
        "ms_spell_check_language": "en"
      },
      "host": {
        "AzureML": {
          "notebookHasBeenCompleted": true
        }
      }
    },
    "nteract": {
      "version": "nteract-front-end@1.0.0"
    }
  },
  "nbformat": 4,
  "nbformat_minor": 2
}